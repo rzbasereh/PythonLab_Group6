{
 "cells": [
  {
   "cell_type": "markdown",
   "metadata": {},
   "source": [
    "# json"
   ]
  },
  {
   "cell_type": "code",
   "execution_count": 1,
   "metadata": {},
   "outputs": [],
   "source": [
    "import json"
   ]
  },
  {
   "cell_type": "code",
   "execution_count": 16,
   "metadata": {},
   "outputs": [
    {
     "name": "stdout",
     "output_type": "stream",
     "text": [
      "{'amin': 95106737, 'mahdi': 95100000, 'reza': 95101111, 'saeed': 95102222}\n"
     ]
    }
   ],
   "source": [
    "My_Dic= {'amin':95106737,'mahdi':95100000,'reza':95101111,'saeed':95102222}\n",
    "print(My_Dic)"
   ]
  },
  {
   "cell_type": "code",
   "execution_count": 17,
   "metadata": {},
   "outputs": [
    {
     "name": "stdout",
     "output_type": "stream",
     "text": [
      "{\"amin\": 95106737, \"mahdi\": 95100000, \"reza\": 95101111, \"saeed\": 95102222}\n"
     ]
    }
   ],
   "source": [
    "jason_obj=json.dumps(My_Dic)\n",
    "print(jason_obj)"
   ]
  },
  {
   "cell_type": "code",
   "execution_count": 19,
   "metadata": {},
   "outputs": [
    {
     "name": "stdout",
     "output_type": "stream",
     "text": [
      "{'amin': 95106737, 'mahdi': 95100000, 'reza': 95101111, 'saeed': 95102222}\n"
     ]
    }
   ],
   "source": [
    "new_dic=json.loads(jason_obj)\n",
    "print(new_dic)"
   ]
  },
  {
   "cell_type": "code",
   "execution_count": 20,
   "metadata": {},
   "outputs": [
    {
     "name": "stdout",
     "output_type": "stream",
     "text": [
      "<class 'dict'>\n",
      "<class 'str'>\n",
      "<class 'dict'>\n"
     ]
    }
   ],
   "source": [
    "print(type(My_Dic))\n",
    "print(type(jason_obj))\n",
    "print(type(new_dic))"
   ]
  },
  {
   "cell_type": "code",
   "execution_count": 21,
   "metadata": {},
   "outputs": [
    {
     "name": "stdout",
     "output_type": "stream",
     "text": [
      "[95106737, 95101111, 95100000, 95102222]\n"
     ]
    }
   ],
   "source": [
    "print([new_dic[name] for name in ['amin','reza','mahdi','saeed']])"
   ]
  },
  {
   "cell_type": "code",
   "execution_count": 22,
   "metadata": {},
   "outputs": [
    {
     "name": "stdout",
     "output_type": "stream",
     "text": [
      "dict_keys(['amin', 'mahdi', 'reza', 'saeed'])\n"
     ]
    }
   ],
   "source": [
    "print(new_dic.keys())"
   ]
  },
  {
   "cell_type": "code",
   "execution_count": null,
   "metadata": {},
   "outputs": [],
   "source": []
  }
 ],
 "metadata": {
  "kernelspec": {
   "display_name": "Python 3",
   "language": "python",
   "name": "python3"
  },
  "language_info": {
   "codemirror_mode": {
    "name": "ipython",
    "version": 3
   },
   "file_extension": ".py",
   "mimetype": "text/x-python",
   "name": "python",
   "nbconvert_exporter": "python",
   "pygments_lexer": "ipython3",
   "version": "3.7.4"
  }
 },
 "nbformat": 4,
 "nbformat_minor": 2
}
