{
 "cells": [
  {
   "cell_type": "markdown",
   "id": "6563b2c3",
   "metadata": {},
   "source": [
    "## Lab6\n",
    "### part 4 - Mahdi Sabbaghi"
   ]
  },
  {
   "cell_type": "markdown",
   "id": "69b07988",
   "metadata": {},
   "source": [
    "### 4.1"
   ]
  },
  {
   "cell_type": "code",
   "execution_count": 2,
   "id": "14631fa6",
   "metadata": {},
   "outputs": [],
   "source": [
    "import numpy as np\n",
    "import matplotlib.pyplot as plt"
   ]
  },
  {
   "cell_type": "code",
   "execution_count": 6,
   "id": "05942cf8",
   "metadata": {},
   "outputs": [
    {
     "name": "stdout",
     "output_type": "stream",
     "text": [
      "[[ 0.          1.          2.        ]\n",
      " [ 3.          4.          5.        ]\n",
      " [ 0.14380199 -0.34092272  0.83263713]\n",
      " [-0.16357635 -0.3644411  -1.85014401]\n",
      " [ 1.44504995 -1.14683964  1.27487756]]\n"
     ]
    }
   ],
   "source": [
    "x= np.arange(6)\n",
    "x= x.reshape(2, 3)\n",
    "a= np.random.randn(3, 3)\n",
    "s= np.vstack((x, a))\n",
    "print(s)"
   ]
  },
  {
   "cell_type": "code",
   "execution_count": 7,
   "id": "3043c625",
   "metadata": {},
   "outputs": [
    {
     "name": "stdout",
     "output_type": "stream",
     "text": [
      "[ 0.          1.          2.          3.          4.          5.\n",
      "  0.14380199 -0.34092272  0.83263713 -0.16357635 -0.3644411  -1.85014401\n",
      "  1.44504995 -1.14683964  1.27487756]\n",
      "5\n"
     ]
    }
   ],
   "source": [
    "s= s.ravel()\n",
    "print(s)\n",
    "index= np.argmax(s)\n",
    "print(index)"
   ]
  },
  {
   "cell_type": "markdown",
   "id": "00600e29",
   "metadata": {},
   "source": [
    "### 4.2"
   ]
  },
  {
   "cell_type": "code",
   "execution_count": 25,
   "id": "e8a9902d",
   "metadata": {},
   "outputs": [],
   "source": [
    "A= np.array([[3, 1, 4], [1, 5 ,9], [2, 6, 5]])\n",
    "B= np.array([2, 4, -1])"
   ]
  },
  {
   "cell_type": "code",
   "execution_count": 10,
   "id": "923d28fb",
   "metadata": {},
   "outputs": [
    {
     "name": "stdout",
     "output_type": "stream",
     "text": [
      "A^T: \n",
      " [[3 1 2]\n",
      " [1 5 6]\n",
      " [4 9 5]]\n",
      "A^-1: \n",
      " [[ 0.32222222 -0.21111111  0.12222222]\n",
      " [-0.14444444 -0.07777778  0.25555556]\n",
      " [ 0.04444444  0.17777778 -0.15555556]]\n",
      "|A|: \n",
      " -90.0\n"
     ]
    }
   ],
   "source": [
    "print(\"A^T: \\n\" , A.T)\n",
    "print(\"A^-1: \\n\", np.linalg.inv(A))\n",
    "print(\"|A|: \\n\", np.linalg.det(A))"
   ]
  },
  {
   "cell_type": "code",
   "execution_count": 15,
   "id": "f1b67d32",
   "metadata": {},
   "outputs": [
    {
     "name": "stdout",
     "output_type": "stream",
     "text": [
      "[13.08576474  2.58000566 -2.66577041] [[-0.31542644 -0.95117074 -0.32372474]\n",
      " [-0.72306109  0.30781323 -0.70222933]\n",
      " [-0.61456393  0.02291827  0.63409484]]\n"
     ]
    }
   ],
   "source": [
    "eigs, vectors= np.linalg.eig(A)\n",
    "print(eigs, vectors)"
   ]
  },
  {
   "cell_type": "code",
   "execution_count": 45,
   "id": "f62042bc",
   "metadata": {},
   "outputs": [],
   "source": [
    "S, V, D= np.linalg.svd(A)"
   ]
  },
  {
   "cell_type": "code",
   "execution_count": 46,
   "id": "206c7fbe",
   "metadata": {},
   "outputs": [
    {
     "data": {
      "text/plain": [
       "array([[3., 1., 4.],\n",
       "       [1., 5., 9.],\n",
       "       [2., 6., 5.]])"
      ]
     },
     "execution_count": 46,
     "metadata": {},
     "output_type": "execute_result"
    }
   ],
   "source": [
    "np.dot(S*V, D)"
   ]
  },
  {
   "cell_type": "code",
   "execution_count": 50,
   "id": "d81e9a7b",
   "metadata": {},
   "outputs": [
    {
     "name": "stdout",
     "output_type": "stream",
     "text": [
      "[[-0.80178373  0.56829114 -0.18490007]\n",
      " [-0.26726124 -0.61770776 -0.73960026]\n",
      " [-0.53452248 -0.54358283  0.64715023]]\n",
      "[[-3.74165739 -5.34522484 -8.2850985 ]\n",
      " [ 0.         -5.78174467 -6.00411946]\n",
      " [ 0.          0.         -4.16025147]]\n",
      "[[3. 1. 4.]\n",
      " [1. 5. 9.]\n",
      " [2. 6. 5.]]\n"
     ]
    }
   ],
   "source": [
    "Q, R= np.linalg.qr(A)\n",
    "print(Q)\n",
    "print(R)\n",
    "print(Q.dot(R))"
   ]
  },
  {
   "cell_type": "code",
   "execution_count": 53,
   "id": "afc3a4d7",
   "metadata": {},
   "outputs": [
    {
     "name": "stdout",
     "output_type": "stream",
     "text": [
      "[-0.32222222 -0.85555556  0.95555556]\n"
     ]
    }
   ],
   "source": [
    "x= np.linalg.solve(A, B)\n",
    "print(x)"
   ]
  },
  {
   "cell_type": "markdown",
   "id": "a7f788e5",
   "metadata": {},
   "source": [
    "### 4.3"
   ]
  },
  {
   "cell_type": "code",
   "execution_count": 67,
   "id": "89f13616",
   "metadata": {},
   "outputs": [
    {
     "data": {
      "image/png": "[encoded data removed]",
      "text/plain": [
       "<Figure size 432x288 with 2 Axes>"
      ]
     },
     "metadata": {
      "needs_background": "light"
     },
     "output_type": "display_data"
    }
   ],
   "source": [
    "t= np.linspace(-10*np.pi, 10*np.pi, 1000)\n",
    "y= np.sinc(t)\n",
    "z= np.fft.fft(y)\n",
    "w= np.linspace(-np.pi, np.pi, 1000)\n",
    "\n",
    "figure, _ = plt.subplots(nrows=2, ncols=1) \n",
    "figure.tight_layout(pad=3.0)\n",
    "plt.subplot(2, 1, 1)\n",
    "plt.plot(t, y)\n",
    "plt.title(\"Shape of main function\")\n",
    "plt.subplot(2, 1, 2)\n",
    "plt.plot(w, np.real(z))\n",
    "plt.title(\"FFT of the main function- real part\")\n",
    "\n",
    "plt.savefig(\"figure.png\")"
   ]
  },
  {
   "cell_type": "code",
   "execution_count": null,
   "id": "f30f47aa",
   "metadata": {},
   "outputs": [],
   "source": []
  }
 ],
 "metadata": {
  "kernelspec": {
   "display_name": "Python 3",
   "language": "python",
   "name": "python3"
  },
  "language_info": {
   "codemirror_mode": {
    "name": "ipython",
    "version": 3
   },
   "file_extension": ".py",
   "mimetype": "text/x-python",
   "name": "python",
   "nbconvert_exporter": "python",
   "pygments_lexer": "ipython3",
   "version": "3.7.9"
  }
 },
 "nbformat": 4,
 "nbformat_minor": 5
}
