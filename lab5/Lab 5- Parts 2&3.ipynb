{
 "cells": [
  {
   "cell_type": "markdown",
   "id": "cdb439e7",
   "metadata": {},
   "source": [
    "## Lab 5\n",
    "### part 2 & 3- (Mahdi Sabbaghi)"
   ]
  },
  {
   "cell_type": "markdown",
   "id": "42fbeb86",
   "metadata": {},
   "source": [
    "### part 2"
   ]
  },
  {
   "cell_type": "code",
   "execution_count": 19,
   "id": "8e0d08a8",
   "metadata": {},
   "outputs": [],
   "source": [
    "f= lambda x: 5*(x//5) + 5*(x%5 > 2)"
   ]
  },
  {
   "cell_type": "code",
   "execution_count": 25,
   "id": "b52c1c96",
   "metadata": {},
   "outputs": [
    {
     "data": {
      "text/plain": [
       "-20"
      ]
     },
     "execution_count": 25,
     "metadata": {},
     "output_type": "execute_result"
    }
   ],
   "source": [
    "f(-19)"
   ]
  },
  {
   "cell_type": "code",
   "execution_count": 27,
   "id": "1a47ab4f",
   "metadata": {},
   "outputs": [
    {
     "data": {
      "text/plain": [
       "['Mahdi Sabbaghi', 'Reza Basereh', 'Saeed Firouzi']"
      ]
     },
     "execution_count": 27,
     "metadata": {},
     "output_type": "execute_result"
    }
   ],
   "source": [
    "st= [[\"Mahdi\", \"Sabbaghi\"], [\"Reza\", \"Basereh\"], [\"Saeed\", \"Firouzi\"]]\n",
    "g= lambda x: [l[0]+\" \"+l[1] for l in x]\n",
    "g(st)"
   ]
  },
  {
   "cell_type": "markdown",
   "id": "c923b369",
   "metadata": {},
   "source": [
    "### part 3"
   ]
  },
  {
   "cell_type": "code",
   "execution_count": 28,
   "id": "9b2aee57",
   "metadata": {},
   "outputs": [
    {
     "data": {
      "text/plain": [
       "9"
      ]
     },
     "execution_count": 28,
     "metadata": {},
     "output_type": "execute_result"
    }
   ],
   "source": [
    "from sq import sq\n",
    "sq(3)"
   ]
  },
  {
   "cell_type": "code",
   "execution_count": 29,
   "id": "d69db30c",
   "metadata": {},
   "outputs": [
    {
     "data": {
      "text/plain": [
       "9"
      ]
     },
     "execution_count": 29,
     "metadata": {},
     "output_type": "execute_result"
    }
   ],
   "source": [
    "import sq as s\n",
    "s.sq(3)"
   ]
  },
  {
   "cell_type": "code",
   "execution_count": null,
   "id": "fe9e3f29",
   "metadata": {},
   "outputs": [],
   "source": []
  }
 ],
 "metadata": {
  "kernelspec": {
   "display_name": "Python 3",
   "language": "python",
   "name": "python3"
  },
  "language_info": {
   "codemirror_mode": {
    "name": "ipython",
    "version": 3
   },
   "file_extension": ".py",
   "mimetype": "text/x-python",
   "name": "python",
   "nbconvert_exporter": "python",
   "pygments_lexer": "ipython3",
   "version": "3.7.9"
  }
 },
 "nbformat": 4,
 "nbformat_minor": 5
}
