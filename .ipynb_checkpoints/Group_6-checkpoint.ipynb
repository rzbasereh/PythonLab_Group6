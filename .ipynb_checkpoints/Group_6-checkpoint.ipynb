{
 "cells": [
  {
   "cell_type": "markdown",
   "metadata": {},
   "source": [
    "# LAB 04 \n",
    "## Group 6\n",
    "### 1.2"
   ]
  },
  {
   "cell_type": "code",
   "execution_count": 3,
   "metadata": {},
   "outputs": [
    {
     "data": {
      "text/plain": [
       "'hello world'"
      ]
     },
     "metadata": {},
     "output_type": "display_data"
    }
   ],
   "source": [
    "display('hello world')"
   ]
  },
  {
   "cell_type": "code",
   "execution_count": 4,
   "metadata": {},
   "outputs": [
    {
     "data": {
      "text/plain": [
       "'سلام جهان'"
      ]
     },
     "metadata": {},
     "output_type": "display_data"
    }
   ],
   "source": [
    "display('سلام جهان')"
   ]
  },
  {
   "cell_type": "markdown",
   "metadata": {},
   "source": [
    "### 2.1"
   ]
  },
  {
   "cell_type": "code",
   "execution_count": null,
   "metadata": {},
   "outputs": [
    {
     "name": "stdout",
     "output_type": "stream",
     "text": [
      "press a key\n",
      "\u001b[1m your dice number is : \u001b[94m 5 \u001b[94m \u001b[0m\n",
      "press a key\n",
      "\u001b[1m your dice number is : \u001b[94m 3 \u001b[94m \u001b[0m\n",
      "press a key\n",
      "\u001b[1m your dice number is : \u001b[94m 2 \u001b[94m \u001b[0m\n",
      "press a key\n",
      "\u001b[1m your dice number is : \u001b[94m 3 \u001b[94m \u001b[0m\n",
      "press a key\n",
      "\u001b[1m your dice number is : \u001b[94m 2 \u001b[94m \u001b[0m\n",
      "press a key\n",
      "\u001b[1m your dice number is : \u001b[94m 2 \u001b[94m \u001b[0m\n",
      "press a key\n",
      "\u001b[1m your dice number is : \u001b[94m 2 \u001b[94m \u001b[0m\n",
      "press a key\n",
      "\u001b[1m your dice number is : \u001b[94m 6 \u001b[94m \u001b[0m\n",
      "press a key\n",
      "\u001b[1m your dice number is : \u001b[94m 4 \u001b[94m \u001b[0m\n",
      "press a key\n",
      "\u001b[1m your dice number is : \u001b[94m 6 \u001b[94m \u001b[0m\n",
      "press a key\n",
      "\u001b[1m your dice number is : \u001b[94m 3 \u001b[94m \u001b[0m\n",
      "press a key\n",
      "\u001b[1m your dice number is : \u001b[94m 1 \u001b[94m \u001b[0m\n",
      "press a key\n",
      "\u001b[1m your dice number is : \u001b[94m 4 \u001b[94m \u001b[0m\n"
     ]
    }
   ],
   "source": [
    "import numpy as np\n",
    "while(1):\n",
    "    input(\"press a key\")\n",
    "    tas=np.random.randint(1,7)\n",
    "    print(\"\\033[1m\",'your dice number is :','\\033[94m',tas,'\\033[94m',\"\\033[0m\")\n",
    "    \n",
    "    \n"
   ]
  },
  {
   "cell_type": "code",
   "execution_count": 32,
   "metadata": {},
   "outputs": [
    {
     "name": "stdout",
     "output_type": "stream",
     "text": [
      "first number:54\n",
      "second number:48\n",
      "\u001b[1m The Greatest Common Divider is : \u001b[94m 6 \u001b[94m\n"
     ]
    }
   ],
   "source": [
    "a=int(input(\"first number:\"))\n",
    "b=int(input(\"second number:\"))\n",
    "GCD=1\n",
    "for i in range (2,a+1):\n",
    "    while (a%i==0)&(b%i==0):\n",
    "        GCD=GCD*i\n",
    "        a=a/i\n",
    "        b=b/i\n",
    "print(\"\\033[1m\",'The Greatest Common Divider is :','\\033[94m',GCD,'\\033[94m')\n",
    "    \n",
    "    \n",
    "    \n",
    "\n"
   ]
  },
  {
   "cell_type": "code",
   "execution_count": null,
   "metadata": {},
   "outputs": [],
   "source": []
  },
  {
   "cell_type": "code",
   "execution_count": null,
   "metadata": {},
   "outputs": [],
   "source": []
  }
 ],
 "metadata": {
  "kernelspec": {
   "display_name": "Python 3",
   "language": "python",
   "name": "python3"
  },
  "language_info": {
   "codemirror_mode": {
    "name": "ipython",
    "version": 3
   },
   "file_extension": ".py",
   "mimetype": "text/x-python",
   "name": "python",
   "nbconvert_exporter": "python",
   "pygments_lexer": "ipython3",
   "version": "3.8.5"
  }
 },
 "nbformat": 4,
 "nbformat_minor": 2
}
