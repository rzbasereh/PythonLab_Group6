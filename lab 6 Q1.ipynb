{
 "cells": [
  {
   "cell_type": "code",
   "execution_count": 1,
   "metadata": {},
   "outputs": [],
   "source": [
    "class Set():\n",
    "    def __init__(self,new_list=None):\n",
    "        if new_list:\n",
    "            self.members=new_list\n",
    "        else :\n",
    "            self.members=[]\n",
    "    \n",
    "    def __eq__(self, other): \n",
    "        \n",
    "        if len(self.members) == len(other.members):\n",
    "\n",
    "            for i in range(len(self.members)):\n",
    "\n",
    "                if self.members[i] not in other.members:\n",
    "                    return False\n",
    "\n",
    "            return True\n",
    "\n",
    "        else :\n",
    "            return False\n",
    "\n",
    "        \n",
    "    def __or__(self, other):\n",
    "        out = Set()\n",
    "        new_list = self.members.copy()\n",
    "        for i in range(len(other.members)):\n",
    "            if other.members[i] not in self.members:\n",
    "                new_list.append(other.members[i])\n",
    "        \n",
    "        [out.add(new_list[i]) for i in range(len(new_list))]\n",
    "        return out\n",
    "        \n",
    "        \n",
    "    def __and__(self, other):\n",
    "        out = Set()\n",
    "        for i in range(len(self.members)):\n",
    "            if self.members[i] in other.members:\n",
    "                out.add(self.members[i])\n",
    "                \n",
    "        return out\n",
    "        \n",
    "        \n",
    "        \n",
    "    def add(self,x):\n",
    "        if x not in self.members:\n",
    "            self.members.append(x)\n",
    "        else :\n",
    "            print(\"This exists in the members\")\n",
    "        return self\n",
    "    \n",
    "    def delete(self,x):\n",
    "        if x in self.members:\n",
    "            self.members.remove(x)\n",
    "        else :\n",
    "            print(\"This doesn't exist in the members\")\n",
    "        return self\n",
    "            \n"
   ]
  },
  {
   "cell_type": "code",
   "execution_count": 2,
   "metadata": {},
   "outputs": [
    {
     "name": "stdout",
     "output_type": "stream",
     "text": [
      "True\n",
      "['ss']\n",
      "['ss']\n"
     ]
    }
   ],
   "source": [
    "a=Set()\n",
    "b=Set()\n",
    "\n",
    "a.add(\"ss\")\n",
    "b.add(\"ss\")\n",
    "#b.add(\"s\")\n",
    "\n",
    "c = a & b\n",
    "d = a | b\n",
    "\n",
    "print(a==b)\n",
    "print(b.members)\n",
    "print(d.members)"
   ]
  },
  {
   "cell_type": "code",
   "execution_count": 3,
   "metadata": {},
   "outputs": [
    {
     "name": "stdout",
     "output_type": "stream",
     "text": [
      "[5, 7, 10]\n",
      "[3, 9, 7]\n",
      "[9, 7]\n",
      "[7]\n",
      "[5, 7, 10, 9]\n",
      "[7, 5, 10]\n",
      "False False False True\n"
     ]
    }
   ],
   "source": [
    "a = Set()\n",
    "a.add(5)\n",
    "a.add(7)\n",
    "a.add(10)\n",
    "print(a.members)\n",
    "b = Set()\n",
    "b.add(3)\n",
    "b.add(9)\n",
    "b.add(7)\n",
    "print(b.members)\n",
    "c = b.delete(3)\n",
    "print(c.members)\n",
    "d = a & b\n",
    "print(d.members)\n",
    "e = a | b\n",
    "print(e.members)\n",
    "f = Set()\n",
    "f.add(7)\n",
    "f.add(5)\n",
    "f.add(10)\n",
    "print(f.members)\n",
    "print(a==c,a==d,a==e,a==f)"
   ]
  },
  {
   "cell_type": "code",
   "execution_count": 4,
   "metadata": {},
   "outputs": [
    {
     "name": "stdout",
     "output_type": "stream",
     "text": [
      "[5, 7, 10]\n"
     ]
    }
   ],
   "source": [
    "print(a.members)"
   ]
  },
  {
   "cell_type": "code",
   "execution_count": null,
   "metadata": {},
   "outputs": [],
   "source": []
  }
 ],
 "metadata": {
  "kernelspec": {
   "display_name": "Python 3",
   "language": "python",
   "name": "python3"
  },
  "language_info": {
   "codemirror_mode": {
    "name": "ipython",
    "version": 3
   },
   "file_extension": ".py",
   "mimetype": "text/x-python",
   "name": "python",
   "nbconvert_exporter": "python",
   "pygments_lexer": "ipython3",
   "version": "3.7.4"
  }
 },
 "nbformat": 4,
 "nbformat_minor": 2
}
