{
 "cells": [
  {
   "cell_type": "markdown",
   "id": "94874f33",
   "metadata": {},
   "source": [
    "## Lab 4\n",
    "### Parts 2.4 & 3.3 (Mahdi Sabbaghi)"
   ]
  },
  {
   "cell_type": "markdown",
   "id": "bd1a3543",
   "metadata": {},
   "source": [
    "### 2.4"
   ]
  },
  {
   "cell_type": "code",
   "execution_count": 1,
   "id": "2a148f71",
   "metadata": {},
   "outputs": [],
   "source": [
    "def levdist(x, y):\n",
    "    if len(x)==0 or len(y)==0:\n",
    "        return len(x)+len(y)\n",
    "    elif x[0]==y[0]:\n",
    "        return levdist(x[1:], y[1:])\n",
    "    else:\n",
    "        return 1+min((levdist(x, y[1:]), levdist(x[1:], y), levdist(x[1:], y[1:])))"
   ]
  },
  {
   "cell_type": "code",
   "execution_count": 2,
   "id": "c70219ea",
   "metadata": {},
   "outputs": [
    {
     "data": {
      "text/plain": [
       "3"
      ]
     },
     "execution_count": 2,
     "metadata": {},
     "output_type": "execute_result"
    }
   ],
   "source": [
    "levdist(\"sitting\", \"kitten\")"
   ]
  },
  {
   "cell_type": "markdown",
   "id": "b340eef6",
   "metadata": {},
   "source": [
    "### 3.3"
   ]
  },
  {
   "cell_type": "code",
   "execution_count": 3,
   "id": "46598d85",
   "metadata": {},
   "outputs": [],
   "source": [
    "import numpy as np\n",
    "x = [1,0,2,0,3,0,4,5,6,7,8]\n",
    "z= [[1, 0, 0, 0, 1], [0, 0, 0, 0, 0], [0, 0, 1, 0, 0]]\n",
    "a= [[1, 0, 0, 0, 1], [1, 0, 0, 0, 0], [0, 0, 1, 0, 1], [0, 0, 1, 1, 1]]"
   ]
  },
  {
   "cell_type": "code",
   "execution_count": 4,
   "id": "f6f03555",
   "metadata": {},
   "outputs": [],
   "source": [
    "def l1center(mat):\n",
    "    indices= np.where(np.array(mat, dtype= np.int32) == 1)\n",
    "    Xs, Ys= indices[0], indices[1] \n",
    "    n= len(Xs)\n",
    "    X, Y= np.median(Xs), np.median(Ys)\n",
    "    \n",
    "    return (int(X), int(Y))"
   ]
  },
  {
   "cell_type": "code",
   "execution_count": 5,
   "id": "cddcf1f5",
   "metadata": {},
   "outputs": [
    {
     "data": {
      "text/plain": [
       "(0, 2)"
      ]
     },
     "execution_count": 5,
     "metadata": {},
     "output_type": "execute_result"
    }
   ],
   "source": [
    "l1center(z)"
   ]
  }
 ],
 "metadata": {
  "kernelspec": {
   "display_name": "Python 3",
   "language": "python",
   "name": "python3"
  },
  "language_info": {
   "codemirror_mode": {
    "name": "ipython",
    "version": 3
   },
   "file_extension": ".py",
   "mimetype": "text/x-python",
   "name": "python",
   "nbconvert_exporter": "python",
   "pygments_lexer": "ipython3",
   "version": "3.7.9"
  }
 },
 "nbformat": 4,
 "nbformat_minor": 5
}
